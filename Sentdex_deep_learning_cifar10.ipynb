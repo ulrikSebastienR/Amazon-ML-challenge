{
  "nbformat": 4,
  "nbformat_minor": 0,
  "metadata": {
    "colab": {
      "name": "Sentdex deep learning cifar10.ipynb",
      "provenance": [],
      "authorship_tag": "ABX9TyP2ro69mGDdRDYJguE4wjrs",
      "include_colab_link": true
    },
    "kernelspec": {
      "name": "python3",
      "display_name": "Python 3"
    }
  },
  "cells": [
    {
      "cell_type": "markdown",
      "metadata": {
        "id": "view-in-github",
        "colab_type": "text"
      },
      "source": [
        "<a href=\"https://colab.research.google.com/github/ulrikSebastienR/Amazon-ML-challenge/blob/master/Sentdex_deep_learning_cifar10.ipynb\" target=\"_parent\"><img src=\"https://colab.research.google.com/assets/colab-badge.svg\" alt=\"Open In Colab\"/></a>"
      ]
    },
    {
      "cell_type": "code",
      "metadata": {
        "id": "k-MWLdFs1xhG",
        "colab_type": "code",
        "colab": {}
      },
      "source": [
        "#https://www.youtube.com/watch?v=BqgTU7_cBnk\n",
        "#Analyzing Models with TensorBoard - Deep Learning with Python, TensorFlow and Keras p.4"
      ],
      "execution_count": 0,
      "outputs": []
    },
    {
      "cell_type": "code",
      "metadata": {
        "id": "_PVds2zH19qh",
        "colab_type": "code",
        "colab": {}
      },
      "source": [
        "import tensorflow as tf"
      ],
      "execution_count": 0,
      "outputs": []
    }
  ]
}